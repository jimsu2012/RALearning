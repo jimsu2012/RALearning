{
 "cells": [
  {
   "cell_type": "code",
   "execution_count": 1,
   "id": "dea755c8-4ffe-4a3a-a41a-7f8f1e7d7a82",
   "metadata": {},
   "outputs": [],
   "source": [
    "import pystac\n",
    "\n",
    "items = pystac.ItemCollection.from_file(\"results.json\")\n",
    "\n",
    "assets = items[-1].assets\n",
    "visual_href = assets[\"visual\"].href\n",
    "scl_href = assets[\"SCL\"].href"
   ]
  },
  {
   "cell_type": "code",
   "execution_count": 2,
   "id": "aa92e6f6-9d7a-43d1-b125-c0983b5dbf02",
   "metadata": {},
   "outputs": [
    {
     "name": "stdout",
     "output_type": "stream",
     "text": [
      "(20.0, -20.0) (10.0, -10.0)\n"
     ]
    }
   ],
   "source": [
    "import rioxarray\n",
    "\n",
    "scl = rioxarray.open_rasterio(scl_href)\n",
    "visual = rioxarray.open_rasterio(visual_href)\n",
    "print(scl.rio.resolution(), visual.rio.resolution())"
   ]
  },
  {
   "cell_type": "code",
   "execution_count": 3,
   "id": "89f2f5dc-d08c-449b-98c6-33960895d714",
   "metadata": {},
   "outputs": [
    {
     "name": "stdout",
     "output_type": "stream",
     "text": [
      "(20.0, -20.0)\n"
     ]
    }
   ],
   "source": [
    "visual = rioxarray.open_rasterio(visual_href, overview_level=0)\n",
    "print(visual.rio.resolution())"
   ]
  },
  {
   "cell_type": "code",
   "execution_count": null,
   "id": "8d6e3c0d-7eeb-4320-ae6b-8c341c6092f1",
   "metadata": {},
   "outputs": [],
   "source": [
    "%%time\n",
    "scl = scl.load()\n",
    "visual = visual.load()"
   ]
  },
  {
   "cell_type": "code",
   "execution_count": null,
   "id": "b27a75c2-2b00-4d5e-9c82-b076a7364622",
   "metadata": {},
   "outputs": [],
   "source": [
    "visual.plot.imshow(figsize=(10, 10))\n",
    "scl.squeeze().plot.imshow(levels=range(13), figsize=(12, 10))"
   ]
  },
  {
   "cell_type": "code",
   "execution_count": null,
   "id": "d745cb38-f8ed-4e23-89e1-31ba1728fd36",
   "metadata": {},
   "outputs": [],
   "source": [
    "%%time\n",
    "mask = scl.squeeze().isin([8, 9])\n",
    "visual_masked = visual.where(~mask, other=visual.rio.nodata)\n",
    "visual_masked.rio.to_raster(\"band_masked.tif\")"
   ]
  },
  {
   "cell_type": "code",
   "execution_count": null,
   "id": "fde48b3b-1a27-49dc-aff0-6a14a827d31d",
   "metadata": {},
   "outputs": [],
   "source": [
    "visual_masked.plot.imshow(figsize=(10, 10))"
   ]
  },
  {
   "cell_type": "code",
   "execution_count": null,
   "id": "2a624b49-c59b-44ff-887d-c4da4fb2ef0f",
   "metadata": {},
   "outputs": [],
   "source": [
    "blue_band_href = assets[\"B02\"].href\n",
    "blue_band = rioxarray.open_rasterio(blue_hand_href, chunks=(1, 4000, 4000))"
   ]
  },
  {
   "cell_type": "code",
   "execution_count": null,
   "id": "3f557804-f688-403d-b283-3c5017b384ba",
   "metadata": {},
   "outputs": [],
   "source": [
    "# Exercise: Chunk sizes matter\n",
    "import rasterio\n",
    "with rasterio.open(visual_href) as r:\n",
    "    if r.is_tiled:\n",
    "        print(f\"Chunk size: {r.block_shapes}\")"
   ]
  },
  {
   "cell_type": "code",
   "execution_count": null,
   "id": "25384418-389a-4c6b-9b9f-e8951abc263d",
   "metadata": {},
   "outputs": [],
   "source": [
    "scl = rioxarray.open_rasterio(scl_href, lock=False, chunks=(1, 2048, 2048))\n",
    "visual = rioxarray.open_rasterio(visual_href, overview_level=0, lock=False, chunks=(3, 2048, 2048))"
   ]
  },
  {
   "cell_type": "code",
   "execution_count": null,
   "id": "9cdb5df3-c67e-4015-96ec-22be67a25af7",
   "metadata": {},
   "outputs": [],
   "source": [
    "%%time\n",
    "scl = scl.persist(scheduler=\"threads\", num_workers=4)\n",
    "visual = visual.persist(scheduler=\"threads\", num_workers=4)"
   ]
  },
  {
   "cell_type": "code",
   "execution_count": null,
   "id": "8f0831d3-2804-4fcf-9066-fa281e5951b5",
   "metadata": {},
   "outputs": [],
   "source": [
    "from threading import Lock"
   ]
  },
  {
   "cell_type": "code",
   "execution_count": null,
   "id": "315677da-6291-4491-ab68-3cd3ed356337",
   "metadata": {},
   "outputs": [],
   "source": [
    "%%time\n",
    "mask = scl.squeeze().isin([8, 9])\n",
    "visual_masked = visual.where(~mask, other=0)\n",
    "visual_store = visual_masked.rio.to_raster(\"band_masked.tif\", tiled=True, lock=Lock(), compute=False)"
   ]
  },
  {
   "cell_type": "code",
   "execution_count": null,
   "id": "c8f69f2a-18ff-4a12-a508-88a82869d019",
   "metadata": {},
   "outputs": [],
   "source": [
    "import dask\n",
    "dask.visualize(visual_store)"
   ]
  },
  {
   "cell_type": "code",
   "execution_count": null,
   "id": "0b40f3aa-013a-45f6-b0f9-5d759b77e82d",
   "metadata": {},
   "outputs": [],
   "source": [
    "%%time\n",
    "visual_store.compute(scheduler=\"threads\", num_workers=4)"
   ]
  },
  {
   "cell_type": "code",
   "execution_count": null,
   "id": "ccd0a0df-9d7a-4757-8abc-e12ec90c783a",
   "metadata": {},
   "outputs": [],
   "source": []
  }
 ],
 "metadata": {
  "kernelspec": {
   "display_name": "Python 3 (ipykernel)",
   "language": "python",
   "name": "python3"
  },
  "language_info": {
   "codemirror_mode": {
    "name": "ipython",
    "version": 3
   },
   "file_extension": ".py",
   "mimetype": "text/x-python",
   "name": "python",
   "nbconvert_exporter": "python",
   "pygments_lexer": "ipython3",
   "version": "3.10.8"
  }
 },
 "nbformat": 4,
 "nbformat_minor": 5
}
